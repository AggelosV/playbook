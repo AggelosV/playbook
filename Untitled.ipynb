{
 "cells": [
  {
   "cell_type": "code",
   "execution_count": 2,
   "id": "909f1836",
   "metadata": {},
   "outputs": [
    {
     "data": {
      "text/markdown": [
       "**File Name:** text[dot]exe\n",
       "\n",
       "**Defang:** Completed\n",
       "\n",
       "**SHA256:** 5b5b114edabcdf33ad1dcc78f7c2e5be0ad3412a0c97afaaee2f2d585bc581bf\n",
       "\n",
       "**VirusTotal Score:** Not Found on VirusTotal\n",
       "\n",
       "**Yara Matches:** No matches \n",
       "\n",
       " ------------------------\n",
       "\n"
      ],
      "text/plain": [
       "<IPython.core.display.Markdown object>"
      ]
     },
     "metadata": {},
     "output_type": "display_data"
    },
    {
     "data": {
      "text/markdown": [
       "**File Name:** eicar[dot]exe\n",
       "\n",
       "**Defang:** Completed\n",
       "\n",
       "**SHA256:** e038b5168d9209267058112d845341cae83d92b1d1af0a10b66830acb7529494\n",
       "\n",
       "**VirusTotal Score:** 60 / 74\n",
       "\n",
       "**Yara Matches:** Matches found: eicar \n",
       "\n",
       " ------------------------\n",
       "\n"
      ],
      "text/plain": [
       "<IPython.core.display.Markdown object>"
      ]
     },
     "metadata": {},
     "output_type": "display_data"
    }
   ],
   "source": [
    "import os\n",
    "import hashlib\n",
    "import yara\n",
    "from virustotal_python import Virustotal\n",
    "from IPython.display import display, Markdown\n",
    "\n",
    "# Initialize VirusTotal API with your key\n",
    "V_API_KEY = '58e37b1a6e72b955bcc35ca6abf7a4064b45c90b5e740ecf961da59bb8cf5917'\n",
    "vtotal = Virustotal(API_KEY=V_API_KEY, API_VERSION=\"v3\")\n",
    "\n",
    "def defang_filename(filepath, filename):\n",
    "    \"\"\"Renames file to defang and prevent accidental execution.\"\"\"\n",
    "    defanged_name = filename.replace('.', '[dot]').replace('/', '[slash]').replace(':', '[colon]')\n",
    "    new_filepath = filepath.replace(filename, defanged_name)\n",
    "    os.rename(filepath, new_filepath)\n",
    "    return defanged_name, new_filepath\n",
    "\n",
    "def sha256sum(filepath):\n",
    "    \"\"\"Compute SHA256 hash of a file.\"\"\"\n",
    "    h = hashlib.sha256()\n",
    "    with open(filepath, 'rb') as file:\n",
    "        for chunk in iter(lambda: file.read(4096), b\"\"):\n",
    "            h.update(chunk)\n",
    "    return h.hexdigest()\n",
    "\n",
    "def check_virustotal(hash):\n",
    "    \"\"\"Query VirusTotal API for a given hash and return the detection score.\"\"\"\n",
    "    try:\n",
    "        resp = vtotal.request(f\"files/{hash}\")\n",
    "        score = f\"{resp.data['attributes']['last_analysis_stats']['malicious']} / {sum(resp.data['attributes']['last_analysis_stats'].values())}\" if resp.data['attributes']['last_analysis_stats']['malicious'] > 0 else \"No detections\"\n",
    "    except Exception as e:\n",
    "        score = \"Not Found on VirusTotal\"\n",
    "    return score\n",
    "\n",
    "def load_yara_rules(directory):\n",
    "    \"\"\"Load and compile YARA rules from the directory, skip invalid files.\"\"\"\n",
    "    rules = {}\n",
    "    for file in os.listdir(directory):\n",
    "        if file.endswith('.yar'):\n",
    "            path = os.path.join(directory, file)\n",
    "            try:\n",
    "                with open(path, 'r') as f:\n",
    "                    rules[file] = f.read()\n",
    "            except Exception as e:\n",
    "                print(f\"Error reading {file}: {e}\")\n",
    "    try:\n",
    "        compiled_rules = yara.compile(sources=rules)\n",
    "    except yara.SyntaxError as e:\n",
    "        print(f\"YARA compilation error: {e}\")\n",
    "        compiled_rules = None\n",
    "    return compiled_rules\n",
    "\n",
    "def scan_with_yara(filepath, rules):\n",
    "    \"\"\"Scan a file with YARA rules to detect patterns.\"\"\"\n",
    "    if rules:\n",
    "        matches = rules.match(filepath)\n",
    "        return \"Matches found: \" + \", \".join([match.rule for match in matches]) if matches else \"No matches\"\n",
    "    return \"YARA rules not compiled due to errors.\"\n",
    "\n",
    "def process_directory(file_directory, rule_directory):\n",
    "    \"\"\"Process files: apply YARA, check VirusTotal, defang, display results.\"\"\"\n",
    "    rules = load_yara_rules(rule_directory)\n",
    "    for filename in os.listdir(file_directory):\n",
    "        filepath = os.path.join(file_directory, filename)\n",
    "        if os.path.isfile(filepath):\n",
    "            defanged_name, new_filepath = defang_filename(filepath, filename)\n",
    "            file_hash = sha256sum(new_filepath)\n",
    "            vt_score = check_virustotal(file_hash)\n",
    "            yara_results = scan_with_yara(new_filepath, rules)\n",
    "            display(Markdown(f\"**File Name:** {filename}\\n\\n**Defang:** Completed\\n\\n**SHA256:** {file_hash}\\n\\n**VirusTotal Score:** {vt_score}\\n\\n**Yara Matches:** {yara_results} \\n\\n ------------------------\\n\\n\"))\n",
    "\n",
    "# Set the paths directly in the script\n",
    "file_directory_path = '/home/aggelos/Desktop/notebook/malicious'\n",
    "yara_rule_directory_path = '/home/aggelos/Desktop/notebook/yara/test'\n",
    "\n",
    "# Execute processing on the directory\n",
    "process_directory(file_directory_path, yara_rule_directory_path)\n"
   ]
  },
  {
   "cell_type": "code",
   "execution_count": null,
   "id": "3119bdd5",
   "metadata": {},
   "outputs": [],
   "source": []
  }
 ],
 "metadata": {
  "kernelspec": {
   "display_name": "Python 3 (ipykernel)",
   "language": "python",
   "name": "python3"
  },
  "language_info": {
   "codemirror_mode": {
    "name": "ipython",
    "version": 3
   },
   "file_extension": ".py",
   "mimetype": "text/x-python",
   "name": "python",
   "nbconvert_exporter": "python",
   "pygments_lexer": "ipython3",
   "version": "3.10.12"
  }
 },
 "nbformat": 4,
 "nbformat_minor": 5
}
