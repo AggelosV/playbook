{
 "cells": [
  {
   "cell_type": "markdown",
   "id": "408e04bc",
   "metadata": {},
   "source": [
    "# Malware Analysis \n",
    "This notebook performs the initial stages of malware analysis.\n",
    "\n",
    "## How To\n",
    "1. Place the malware samples into the malware directory\n",
    "2. Walk through the steps on the notebook\n",
    "3. Interact with the prompts\n",
    "4. Perform the exercises along the way"
   ]
  },
  {
   "cell_type": "markdown",
   "id": "a064a7e0",
   "metadata": {},
   "source": [
    "# Imports"
   ]
  },
  {
   "cell_type": "code",
   "execution_count": 103,
   "id": "07ea0dbe",
   "metadata": {},
   "outputs": [],
   "source": [
    "import os\n",
    "import hashlib\n",
    "import requests\n",
    "import yara\n",
    "from virustotal_python import Virustotal\n",
    "from IPython.display import display, Markdown"
   ]
  },
  {
   "cell_type": "markdown",
   "id": "9958eb7d",
   "metadata": {},
   "source": [
    "# Listing of the files in the Malware directory"
   ]
  },
  {
   "cell_type": "code",
   "execution_count": 104,
   "id": "d022006d",
   "metadata": {},
   "outputs": [
    {
     "name": "stdout",
     "output_type": "stream",
     "text": [
      "Files found in the directory: /home/aggelos/Desktop/notebook/malicious/ : \n",
      "\n",
      "eicar[dot]exe\n",
      "text[dot]sh\n"
     ]
    }
   ],
   "source": [
    "file_directory_path = '/home/aggelos/Desktop/notebook/malicious'  # Directory containing files\n",
    "files = [f for f in os.listdir(file_directory_path) if os.path.isfile(os.path.join(file_directory_path, f))]\n",
    "print(\"Files found in the directory: /home/aggelos/Desktop/notebook/malicious/ : \\n\")\n",
    "for file in files:\n",
    "    print(file)\n"
   ]
  },
  {
   "cell_type": "markdown",
   "id": "a5953c69",
   "metadata": {},
   "source": [
    "# VirusTotal API Key Validation\n",
    "\n",
    "Provide a valid VirusTotal key.\n",
    "\n",
    "## Exercise\n",
    "\n",
    "The Key you provide is in clear text, try to hide the text for safety (like a sensitive password) (getpass library?)"
   ]
  },
  {
   "cell_type": "code",
   "execution_count": 105,
   "id": "bf9678af",
   "metadata": {},
   "outputs": [
    {
     "name": "stdout",
     "output_type": "stream",
     "text": [
      "Enter your VirusTotal API key: 58e37b1a6e72b955bcc35ca6abf7a4064b45c90b5e740ecf961da59bb8cf5917\n",
      "API Key validated successfully.\n"
     ]
    }
   ],
   "source": [
    "def validate_vt_api_key(key):\n",
    "    \"\"\" Validate the VirusTotal API key by making a test request. \"\"\"\n",
    "    try:\n",
    "        vtotal_temp = Virustotal(API_KEY=key, API_VERSION=\"v3\")\n",
    "        # Make a benign test call using a known file hash to check the API key validity\n",
    "        response = vtotal_temp.request(\"files/908B64B1971A979C7E3E8CE4621945CBA84854CB98D76367B791A6E22B5F6D53\")\n",
    "        if response.status_code == 200:\n",
    "            return True\n",
    "        elif response.status_code == 403:\n",
    "            print(\"Invalid API key. Please re-enter.\")\n",
    "            return False\n",
    "        else:\n",
    "            print(f\"Failed to validate API Key: HTTP Status Code {response.status_code}. Response: {response.data}\")\n",
    "            return False\n",
    "    except requests.exceptions.RequestException as e:\n",
    "        print(f\"Network error during API request: {str(e)}\")\n",
    "        return False\n",
    "    except Exception as e:\n",
    "        print(f\"An error occurred: {str(e)}\")\n",
    "        return False\n",
    "\n",
    "# Loop to ensure the user enters a valid API key\n",
    "valid_key = False\n",
    "while not valid_key:\n",
    "    V_API_KEY = input(\"Enter your VirusTotal API key: \").strip()\n",
    "    valid_key = validate_vt_api_key(V_API_KEY)\n",
    "    if not valid_key:\n",
    "        print(\"Please enter a valid VirusTotal API key.\")\n",
    "\n",
    "print(\"API Key validated successfully.\")\n"
   ]
  },
  {
   "cell_type": "markdown",
   "id": "76bfc3a2",
   "metadata": {},
   "source": [
    "# Defanging of files\n",
    "\n",
    "Let's you defang files to avoid misclicking them. It provides feedback based on your answer.\n",
    "\n",
    "## Exercise\n",
    "\n",
    "The following code defangs all files to avoid misclicks, try to expand the code to defang any potential URLs that are within the files. For example some text files might contain malicious URLs, those should be defanged as well."
   ]
  },
  {
   "cell_type": "code",
   "execution_count": 106,
   "id": "533009b3",
   "metadata": {},
   "outputs": [
    {
     "name": "stdout",
     "output_type": "stream",
     "text": [
      "Do you want to defang the filenames? Yes/No: yes\n",
      "No actions needed, all files are already DEFANGED\n"
     ]
    }
   ],
   "source": [
    "def defang_filenames(directory, perform_defang, user_input):\n",
    "    files = os.listdir(directory)\n",
    "    all_defanged = True  # Assume all are defanged unless proven otherwise\n",
    "    any_defanged = False  # Track if any file has been defanged\n",
    "\n",
    "    for filename in files:\n",
    "        if not is_defanged(filename):  # Check if the file needs defanging\n",
    "            all_defanged = False  # Found a file that is not defanged\n",
    "            if perform_defang:\n",
    "                defanged_name = defang_filename(filename)\n",
    "                original_filepath = os.path.join(directory, filename)\n",
    "                new_filepath = os.path.join(directory, defanged_name)\n",
    "                os.rename(original_filepath, new_filepath)\n",
    "                any_defanged = True\n",
    "    \n",
    "    if any_defanged:\n",
    "        return \"DEFANGED\"\n",
    "    elif all_defanged:\n",
    "        return \"No actions needed, all files are already DEFANGED\"  # All were already defanged\n",
    "    else:\n",
    "        return \"NOT DEFANGED\" if user_input.lower() == 'no' else \"INVALID INPUT\"\n",
    "\n",
    "def is_defanged(filename):\n",
    "    \"\"\"Check if the filename is already defanged.\"\"\"\n",
    "    return '[dot]' in filename or '[slash]' in filename or '[colon]' in filename\n",
    "\n",
    "def defang_filename(filename):\n",
    "    \"\"\"Defang the filename by replacing certain characters.\"\"\"\n",
    "    defanged_name = filename.replace('.', '[dot]').replace('/', '[slash]').replace(':', '[colon]')\n",
    "    return defanged_name\n",
    "\n",
    "# User interaction for defanging decision\n",
    "defang_choice = input(\"Do you want to defang the filenames? Yes/No: \")\n",
    "perform_defang = defang_choice.strip().lower() == 'yes'\n",
    "\n",
    "# Directory containing files\n",
    "file_directory_path = '/home/aggelos/Desktop/notebook/malicious'\n",
    "\n",
    "# Execute defanging based on user choice and print the appropriate response\n",
    "defanging_result = defang_filenames(file_directory_path, perform_defang, defang_choice)\n",
    "print(defanging_result)\n"
   ]
  },
  {
   "cell_type": "markdown",
   "id": "fcc6e736",
   "metadata": {},
   "source": [
    "# Calculating the sha256 of each file\n",
    "\n",
    "## Exercise\n",
    "\n",
    "Try to create a file analyzer which provides the MIME type of each file. This will give us a better all around view if we have many malware samples to analyze."
   ]
  },
  {
   "cell_type": "code",
   "execution_count": 107,
   "id": "822b0d7a",
   "metadata": {},
   "outputs": [
    {
     "name": "stdout",
     "output_type": "stream",
     "text": [
      "SHA256 of eicar[dot]exe: e038b5168d9209267058112d845341cae83d92b1d1af0a10b66830acb7529494\n",
      "SHA256 of text[dot]sh: 5b5b114edabcdf33ad1dcc78f7c2e5be0ad3412a0c97afaaee2f2d585bc581bf\n"
     ]
    }
   ],
   "source": [
    "def sha256sum(filepath):\n",
    "    with open(filepath, 'rb') as file:\n",
    "        data = file.read()\n",
    "        h = hashlib.sha256(data)\n",
    "        return h.hexdigest()\n",
    "    \n",
    "hashes = {file: sha256sum(os.path.join(file_directory_path, file)) for file in files}\n",
    "for file, hash_val in hashes.items():\n",
    "    print(f\"SHA256 of {file}: {hash_val}\")"
   ]
  },
  {
   "cell_type": "markdown",
   "id": "194e2c13",
   "metadata": {},
   "source": [
    "# Check the files on VirusTotal\n",
    "\n",
    "## Exercise\n",
    "\n",
    "Try to extend the existing code and add a section where you leverage the VirusTotal API to check malicious URLs as well."
   ]
  },
  {
   "cell_type": "code",
   "execution_count": 108,
   "id": "9fd6aa0f",
   "metadata": {},
   "outputs": [
    {
     "name": "stdout",
     "output_type": "stream",
     "text": [
      "VirusTotal Score for eicar[dot]exe: 60 / 74\n",
      "VirusTotal Score for text[dot]sh: Not Found on VirusTotal\n"
     ]
    }
   ],
   "source": [
    "vtotal = Virustotal(API_KEY=V_API_KEY, API_VERSION=\"v3\")\n",
    "def check_virustotal(hash):\n",
    "    try:\n",
    "        resp = vtotal.request(f\"files/{hash}\")\n",
    "        score = f\"{resp.data['attributes']['last_analysis_stats']['malicious']} / {sum(resp.data['attributes']['last_analysis_stats'].values())}\" if resp.data['attributes']['last_analysis_stats']['malicious'] > 0 else \"No detections\"\n",
    "    except Exception as e:\n",
    "        score = \"Not Found on VirusTotal\"\n",
    "    return score\n",
    "\n",
    "vt_scores = {file: check_virustotal(hash_val) for file, hash_val in hashes.items()}\n",
    "for file, score in vt_scores.items():\n",
    "    print(f\"VirusTotal Score for {file}: {score}\")\n"
   ]
  },
  {
   "cell_type": "markdown",
   "id": "d42d09a4",
   "metadata": {},
   "source": [
    "# Load Yara rules and Scan Files\n",
    "\n",
    "## Exercise\n",
    "\n",
    "Try creating your own yara rule which can be used to detect ransomware"
   ]
  },
  {
   "cell_type": "code",
   "execution_count": 109,
   "id": "04a85a3c",
   "metadata": {},
   "outputs": [
    {
     "name": "stdout",
     "output_type": "stream",
     "text": [
      "YARA Matches for eicar[dot]exe: eicar\n",
      "YARA Matches for text[dot]sh: No matches\n"
     ]
    }
   ],
   "source": [
    "yara_rule_directory_path = '/home/aggelos/Desktop/notebook/yara/test'\n",
    "rules = {}\n",
    "for file in os.listdir(yara_rule_directory_path):\n",
    "    if file.endswith('.yar'):\n",
    "        path = os.path.join(yara_rule_directory_path, file)\n",
    "        with open(path, 'r') as f:\n",
    "            rules[file] = f.read()\n",
    "\n",
    "compiled_rules = yara.compile(sources=rules)\n",
    "def scan_with_yara(filepath, rules):\n",
    "    matches = rules.match(filepath)\n",
    "    return \", \".join([match.rule for match in matches]) if matches else \"No matches\"\n",
    "\n",
    "yara_results = {file: scan_with_yara(os.path.join(file_directory_path, file), compiled_rules) for file in files}\n",
    "for file, result in yara_results.items():\n",
    "    print(f\"YARA Matches for {file}: {result}\")\n"
   ]
  },
  {
   "cell_type": "code",
   "execution_count": 110,
   "id": "4961b63d",
   "metadata": {},
   "outputs": [
    {
     "name": "stdout",
     "output_type": "stream",
     "text": [
      "\n",
      "Final Summary Report:\n",
      "---------------------------------------------------------------------\n",
      "File Name: eicar[dot]exe\n",
      "File Hash: e038b5168d9209267058112d845341cae83d92b1d1af0a10b66830acb7529494\n",
      "VirusTotal Score: 60 / 74\n",
      "Yara rule Matches: eicar\n",
      "Defanged: DEFANGED\n",
      "---------------------------------------------------------------------\n",
      "\n",
      "File Name: text[dot]sh\n",
      "File Hash: 5b5b114edabcdf33ad1dcc78f7c2e5be0ad3412a0c97afaaee2f2d585bc581bf\n",
      "VirusTotal Score: Not Found on VirusTotal\n",
      "Yara rule Matches: No matches\n",
      "Defanged: DEFANGED\n",
      "---------------------------------------------------------------------\n",
      "\n"
     ]
    }
   ],
   "source": [
    "# Final Summary Report for Each File\n",
    "print(\"\\nFinal Summary Report:\")\n",
    "print(\"---------------------------------------------------------------------\")\n",
    "for file in files:\n",
    "    file_path = os.path.join(file_directory_path, file)\n",
    "    file_hash = hashes[file]\n",
    "    vt_score = vt_scores[file]\n",
    "    yara_result = yara_results[file]\n",
    "    defanged_status = \"DEFANGED\" if is_defanged(file) else \"NOT DEFANGED\"\n",
    "\n",
    "    print(f\"File Name: {file}\")\n",
    "    print(f\"File Hash: {file_hash}\")\n",
    "    print(f\"VirusTotal Score: {vt_score}\")\n",
    "    print(f\"Yara rule Matches: {yara_result}\")\n",
    "    print(f\"Defanged: {defanged_status}\")\n",
    "    print(\"---------------------------------------------------------------------\\n\")"
   ]
  },
  {
   "cell_type": "code",
   "execution_count": null,
   "id": "750f7094",
   "metadata": {},
   "outputs": [],
   "source": []
  }
 ],
 "metadata": {
  "kernelspec": {
   "display_name": "Python 3 (ipykernel)",
   "language": "python",
   "name": "python3"
  },
  "language_info": {
   "codemirror_mode": {
    "name": "ipython",
    "version": 3
   },
   "file_extension": ".py",
   "mimetype": "text/x-python",
   "name": "python",
   "nbconvert_exporter": "python",
   "pygments_lexer": "ipython3",
   "version": "3.10.12"
  }
 },
 "nbformat": 4,
 "nbformat_minor": 5
}
